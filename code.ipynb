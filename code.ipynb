{
 "cells": [
  {
   "cell_type": "markdown",
   "metadata": {},
   "source": [
    "# Libraries"
   ]
  },
  {
   "cell_type": "code",
   "execution_count": null,
   "metadata": {},
   "outputs": [],
   "source": [
    "from tensorflow.keras.preprocessing import image\n",
    "from tensorflow.keras.applications.vgg16 import VGG16, preprocess_input\n",
    "from tensorflow.keras.models import Model\n",
    "from pathlib import Path\n",
    "from PIL import Image\n",
    "import os\n",
    "import numpy as np\n",
    "import matplotlib.pyplot as plt"
   ]
  },
  {
   "cell_type": "markdown",
   "metadata": {},
   "source": [
    "# Model intialization"
   ]
  },
  {
   "cell_type": "code",
   "execution_count": null,
   "metadata": {},
   "outputs": [],
   "source": [
    "class feature_extraction():\n",
    "    def __init__(self):\n",
    "        model = VGG16(weights='imagenet')\n",
    "        self.model = Model(inputs=model.input, outputs=model.get_layer('fc1').output)\n",
    "\n",
    "    def extract(self, img):\n",
    "        img = img.resize((224,224))\n",
    "        img = img.convert('RGB')\n",
    "        x = image.img_to_array(img)\n",
    "        x = np.expand_dims(x, axis=0)\n",
    "        x = preprocess_input(x)\n",
    "        feature = self.model.predict(x)[0]\n",
    "        return feature / np.linalg.norm(feature)"
   ]
  },
  {
   "cell_type": "markdown",
   "metadata": {},
   "source": [
    "# Data loading and extraction"
   ]
  },
  {
   "cell_type": "code",
   "execution_count": null,
   "metadata": {},
   "outputs": [],
   "source": [
    "fe = feature_extraction()\n",
    "base_path = '/home/grads/y/yashzambre/Desktop/649/'\n",
    "images = os.listdir(base_path+'dataset/')"
   ]
  },
  {
   "cell_type": "markdown",
   "metadata": {},
   "source": [
    "# Feature extraction"
   ]
  },
  {
   "cell_type": "code",
   "execution_count": null,
   "metadata": {},
   "outputs": [],
   "source": [
    "\n",
    "for img in images:\n",
    "    fmt = img.split('.')\n",
    "    if fmt[-1] == 'jpg' or fmt[-1] == 'JPG':\n",
    "        img_dir = base_path +'dataset/' +img\n",
    "        feature = fe.extract(img=Image.open(img_dir))\n",
    "        # Save the Numpy array (.npy) on designated path\n",
    "        feature_path = base_path +'trained_features/' + fmt[0] + '.npy'\n",
    "        np.save(feature_path, feature)\n"
   ]
  },
  {
   "cell_type": "markdown",
   "metadata": {},
   "source": []
  },
  {
   "cell_type": "markdown",
   "metadata": {},
   "source": [
    "# Loading trained features"
   ]
  },
  {
   "cell_type": "code",
   "execution_count": null,
   "metadata": {},
   "outputs": [],
   "source": [
    "feat_dir = base_path +'trained_features/'\n",
    "train_feat = os.listdir(feat_dir)\n",
    "features = []\n",
    "\n",
    "for feat in train_feat:\n",
    "    features.append(np.load(feat_dir + feat))\n",
    "\n",
    "features = np.array(features)\n",
    "(n,d) = features.shape"
   ]
  },
  {
   "cell_type": "markdown",
   "metadata": {},
   "source": [
    "# Test image"
   ]
  },
  {
   "cell_type": "code",
   "execution_count": null,
   "metadata": {},
   "outputs": [],
   "source": [
    "img_path = base_path +'dataset/'\n",
    "test_img = base_path + 'test.jpg'\n",
    "\n",
    "img = Image.open(test_img)\n",
    "test_feat = fe.extract(img)\n",
    "dists = np.zeros(n)\n",
    "\n",
    "dists = np.linalg.norm(features - test_feat, axis=1)\n",
    "\n",
    "idx = np.argsort(dists)[:30]\n",
    "scores = []\n",
    "for i in idx:\n",
    "    img_dir = img_path + images[i]\n",
    "    scores.append((dists[i], img_dir))\n",
    "    \n",
    "# Visualize the result\n",
    "plt.imshow(Image.open(test_img))\n",
    "plt.show()\n",
    "\n",
    "axes=[]\n",
    "fig=plt.figure(figsize=(8,8))\n",
    "for a in range(5*6):\n",
    "    score = scores[a]\n",
    "    axes.append(fig.add_subplot(5, 6, a+1))\n",
    "    subplot_title=str(score[0])\n",
    "    axes[-1].set_title(subplot_title)  \n",
    "    plt.axis('off')\n",
    "    plt.imshow(Image.open(score[1]))\n",
    "fig.tight_layout()\n",
    "plt.show()"
   ]
  },
  {
   "cell_type": "code",
   "execution_count": null,
   "metadata": {},
   "outputs": [],
   "source": [
    "img_path = base_path +'dataset/'\n",
    "test_img = base_path + 'test.jpg'\n",
    "\n",
    "img = Image.open(test_img)\n",
    "test_feat = fe.extract(img)\n",
    "x_axis = []\n",
    "y_axis = []\n",
    "\n",
    "for i in range(int(n/50), n , int(n/50)):\n",
    "    dists = np.zeros(i)\n",
    "    dists = np.linalg.norm(features[np.random.choice(n,i),:] - test_feat, axis=1)\n",
    "    idx = np.argsort(dists)[:30]\n",
    "    x_axis.append(i)\n",
    "    max = dists[idx[-1]]\n",
    "    if max > 1:\n",
    "        max = max-1\n",
    "    y_axis.append(max*100)\n",
    "\n",
    "\n",
    "idx = np.argsort(dists)[:30]\n",
    "scores = []\n",
    "for i in idx:\n",
    "    img_dir = img_path + images[i]\n",
    "    scores.append((dists[i], img_dir))\n",
    "    \n",
    "# # Visualize the result\n",
    "plt.imshow(Image.open(test_img))\n",
    "plt.show()\n",
    "\n",
    "axes=[]\n",
    "fig=plt.figure(figsize=(8,8))\n",
    "for a in range(5*6):\n",
    "    score = scores[a]\n",
    "    axes.append(fig.add_subplot(5, 6, a+1))\n",
    "    subplot_title=str(score[0])\n",
    "    axes[-1].set_title(subplot_title)  \n",
    "    plt.axis('off')\n",
    "    plt.imshow(Image.open(score[1]))\n",
    "fig.tight_layout()\n",
    "plt.show()\n",
    "y = y_axis.reverse()\n",
    "plt.plot(x_axis, y_axis[::-1])\n",
    "plt.title(\"Feature space vs accuracy\")\n",
    "plt.xlabel(\"Size of the dataset\")\n",
    "plt.ylabel(\"Accuracy (%)\")\n",
    "plt.show()"
   ]
  },
  {
   "cell_type": "code",
   "execution_count": null,
   "metadata": {},
   "outputs": [],
   "source": []
  }
 ],
 "metadata": {
  "kernelspec": {
   "display_name": "base",
   "language": "python",
   "name": "python3"
  },
  "language_info": {
   "codemirror_mode": {
    "name": "ipython",
    "version": 3
   },
   "file_extension": ".py",
   "mimetype": "text/x-python",
   "name": "python",
   "nbconvert_exporter": "python",
   "pygments_lexer": "ipython3",
   "version": "3.9.13 (main, Aug 25 2022, 23:26:10) \n[GCC 11.2.0]"
  },
  "orig_nbformat": 4,
  "vscode": {
   "interpreter": {
    "hash": "9c06bde65ae04fd465505d3dd1a52799008d935ac2250e04d50eefebd8ba8017"
   }
  }
 },
 "nbformat": 4,
 "nbformat_minor": 2
}
